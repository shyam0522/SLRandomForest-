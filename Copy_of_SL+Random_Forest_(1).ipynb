{
  "nbformat": 4,
  "nbformat_minor": 0,
  "metadata": {
    "colab": {
      "provenance": []
    },
    "kernelspec": {
      "name": "python3",
      "display_name": "Python 3"
    },
    "language_info": {
      "name": "python"
    }
  },
  "cells": [
    {
      "cell_type": "markdown",
      "source": [
        "NAME:D.SHYAM PRASAD\n",
        "\n",
        "H.TNO:21X05A6714\n",
        "\n",
        "BRANCH:CSE(DS)\n",
        "\n",
        "COLLEGE:NARASIMHA REDDY ENGINEERING COLLEGE"
      ],
      "metadata": {
        "id": "TbgPHfS0Dmes"
      }
    },
    {
      "cell_type": "markdown",
      "source": [
        "PROJECT TITLE:\n",
        "  \n",
        "  CLASSIFY THE RANDOM_FOREST ALGORITHM USING SKITLEARN CLASSIFIER \"RANDOMFORESTCLASSIFIER\"FOR \"iris.csv\".AND PREDICT THE DATA HOW MANY SPECIES ARE INTERCONNECTED WITH AND THE 'DECISION TREE NODE'."
      ],
      "metadata": {
        "id": "gD-K3LXZDmN0"
      }
    },
    {
      "cell_type": "markdown",
      "source": [
        "TASK:\n",
        "\n",
        "TASK-1:\n",
        "  IMPORT THE RANDOM_FOREST CLASSIFIER BY USING 'sklearn.ensemble'LIBRARY.\n",
        "\n",
        "TASK-2:\n",
        "  LOAD YOUR DATA USING SEABORN GRAPHICS LIBRARY AS ARGUMENT \"load_iris()\"\n",
        "\n",
        "TASK-3:\n",
        "  PREPROCESS THE DATA USING SKILEARN GRAPHICS LIBRARY.\n",
        "\n",
        "TASK-4:\n",
        "  SELECT THE MODEL USING \"MODEL_SELECTION\" FROM 'sns'AS A SEABORN SKLEARN AS A SKITLEARN MACHINE LEARNING LIBRARY.\n",
        "\n",
        "TASK-5:\n",
        "  LOAD THE \"iris.csv\" DATASET FOR DATA AS INPUT VARIABLE AN TARGET AS A OUPUT FUNCTIONAL VARIABLE.\n",
        "\n",
        "TASK-6:\n",
        "  PICK THE TRAIN AND TEST DATA USING ARGUMENTED LIBRARY 'train_test_split'.\n",
        "\n",
        "TASK-7:\n",
        "  SELECT THE ESTIMATORS AS A nth DECISION TREE.\n",
        "\n",
        "TASK-8:\n",
        "  USE A RANDOM_FOREST CLASSIFIER AND FIT YOUR MODEL.\n",
        "\n",
        "TASK-9:\n",
        "  FIND OUT YOUR MODEL ACCURACY"
      ],
      "metadata": {
        "id": "cXW0xSKSE1Xb"
      }
    },
    {
      "cell_type": "code",
      "execution_count": null,
      "metadata": {
        "id": "2QDvncuAYc8s"
      },
      "outputs": [],
      "source": [
        "from sklearn.datasets import load_iris\n",
        "from sklearn.model_selection import train_test_split\n",
        "from sklearn.ensemble import RandomForestClassifier\n",
        "from sklearn.metrics import accuracy_score"
      ]
    },
    {
      "cell_type": "code",
      "source": [
        "\n",
        "# Load the Iris dataset\n",
        "iris = load_iris()\n",
        "X = iris.data\n",
        "y = iris.target"
      ],
      "metadata": {
        "id": "U6cyMkq-YqXo"
      },
      "execution_count": null,
      "outputs": []
    },
    {
      "cell_type": "code",
      "source": [
        "# Split the dataset into training and testing sets\n",
        "X_train, X_test, y_train, y_test = train_test_split(X, y, test_size=0.2, random_state=42)\n"
      ],
      "metadata": {
        "id": "8QswL_AiYs-M"
      },
      "execution_count": null,
      "outputs": []
    },
    {
      "cell_type": "code",
      "source": [
        "# Create a Random Forest classifier with 100 trees\n",
        "random_forest = RandomForestClassifier(n_estimators=100)\n"
      ],
      "metadata": {
        "id": "edtu3240Yvdj"
      },
      "execution_count": null,
      "outputs": []
    },
    {
      "cell_type": "code",
      "source": [
        "\n",
        "# Train the classifier on the training data\n",
        "random_forest.fit(X_train, y_train)\n"
      ],
      "metadata": {
        "colab": {
          "base_uri": "https://localhost:8080/",
          "height": 74
        },
        "id": "zt4hkVzlYxtW",
        "outputId": "482c6e45-80f9-4fb1-b3f3-48acb5081991"
      },
      "execution_count": null,
      "outputs": [
        {
          "output_type": "execute_result",
          "data": {
            "text/plain": [
              "RandomForestClassifier()"
            ],
            "text/html": [
              "<style>#sk-container-id-1 {color: black;background-color: white;}#sk-container-id-1 pre{padding: 0;}#sk-container-id-1 div.sk-toggleable {background-color: white;}#sk-container-id-1 label.sk-toggleable__label {cursor: pointer;display: block;width: 100%;margin-bottom: 0;padding: 0.3em;box-sizing: border-box;text-align: center;}#sk-container-id-1 label.sk-toggleable__label-arrow:before {content: \"▸\";float: left;margin-right: 0.25em;color: #696969;}#sk-container-id-1 label.sk-toggleable__label-arrow:hover:before {color: black;}#sk-container-id-1 div.sk-estimator:hover label.sk-toggleable__label-arrow:before {color: black;}#sk-container-id-1 div.sk-toggleable__content {max-height: 0;max-width: 0;overflow: hidden;text-align: left;background-color: #f0f8ff;}#sk-container-id-1 div.sk-toggleable__content pre {margin: 0.2em;color: black;border-radius: 0.25em;background-color: #f0f8ff;}#sk-container-id-1 input.sk-toggleable__control:checked~div.sk-toggleable__content {max-height: 200px;max-width: 100%;overflow: auto;}#sk-container-id-1 input.sk-toggleable__control:checked~label.sk-toggleable__label-arrow:before {content: \"▾\";}#sk-container-id-1 div.sk-estimator input.sk-toggleable__control:checked~label.sk-toggleable__label {background-color: #d4ebff;}#sk-container-id-1 div.sk-label input.sk-toggleable__control:checked~label.sk-toggleable__label {background-color: #d4ebff;}#sk-container-id-1 input.sk-hidden--visually {border: 0;clip: rect(1px 1px 1px 1px);clip: rect(1px, 1px, 1px, 1px);height: 1px;margin: -1px;overflow: hidden;padding: 0;position: absolute;width: 1px;}#sk-container-id-1 div.sk-estimator {font-family: monospace;background-color: #f0f8ff;border: 1px dotted black;border-radius: 0.25em;box-sizing: border-box;margin-bottom: 0.5em;}#sk-container-id-1 div.sk-estimator:hover {background-color: #d4ebff;}#sk-container-id-1 div.sk-parallel-item::after {content: \"\";width: 100%;border-bottom: 1px solid gray;flex-grow: 1;}#sk-container-id-1 div.sk-label:hover label.sk-toggleable__label {background-color: #d4ebff;}#sk-container-id-1 div.sk-serial::before {content: \"\";position: absolute;border-left: 1px solid gray;box-sizing: border-box;top: 0;bottom: 0;left: 50%;z-index: 0;}#sk-container-id-1 div.sk-serial {display: flex;flex-direction: column;align-items: center;background-color: white;padding-right: 0.2em;padding-left: 0.2em;position: relative;}#sk-container-id-1 div.sk-item {position: relative;z-index: 1;}#sk-container-id-1 div.sk-parallel {display: flex;align-items: stretch;justify-content: center;background-color: white;position: relative;}#sk-container-id-1 div.sk-item::before, #sk-container-id-1 div.sk-parallel-item::before {content: \"\";position: absolute;border-left: 1px solid gray;box-sizing: border-box;top: 0;bottom: 0;left: 50%;z-index: -1;}#sk-container-id-1 div.sk-parallel-item {display: flex;flex-direction: column;z-index: 1;position: relative;background-color: white;}#sk-container-id-1 div.sk-parallel-item:first-child::after {align-self: flex-end;width: 50%;}#sk-container-id-1 div.sk-parallel-item:last-child::after {align-self: flex-start;width: 50%;}#sk-container-id-1 div.sk-parallel-item:only-child::after {width: 0;}#sk-container-id-1 div.sk-dashed-wrapped {border: 1px dashed gray;margin: 0 0.4em 0.5em 0.4em;box-sizing: border-box;padding-bottom: 0.4em;background-color: white;}#sk-container-id-1 div.sk-label label {font-family: monospace;font-weight: bold;display: inline-block;line-height: 1.2em;}#sk-container-id-1 div.sk-label-container {text-align: center;}#sk-container-id-1 div.sk-container {/* jupyter's `normalize.less` sets `[hidden] { display: none; }` but bootstrap.min.css set `[hidden] { display: none !important; }` so we also need the `!important` here to be able to override the default hidden behavior on the sphinx rendered scikit-learn.org. See: https://github.com/scikit-learn/scikit-learn/issues/21755 */display: inline-block !important;position: relative;}#sk-container-id-1 div.sk-text-repr-fallback {display: none;}</style><div id=\"sk-container-id-1\" class=\"sk-top-container\"><div class=\"sk-text-repr-fallback\"><pre>RandomForestClassifier()</pre><b>In a Jupyter environment, please rerun this cell to show the HTML representation or trust the notebook. <br />On GitHub, the HTML representation is unable to render, please try loading this page with nbviewer.org.</b></div><div class=\"sk-container\" hidden><div class=\"sk-item\"><div class=\"sk-estimator sk-toggleable\"><input class=\"sk-toggleable__control sk-hidden--visually\" id=\"sk-estimator-id-1\" type=\"checkbox\" checked><label for=\"sk-estimator-id-1\" class=\"sk-toggleable__label sk-toggleable__label-arrow\">RandomForestClassifier</label><div class=\"sk-toggleable__content\"><pre>RandomForestClassifier()</pre></div></div></div></div></div>"
            ]
          },
          "metadata": {},
          "execution_count": 5
        }
      ]
    },
    {
      "cell_type": "code",
      "source": [
        "# Make predictions on the test data\n",
        "y_pred = random_forest.predict(X_test)\n"
      ],
      "metadata": {
        "id": "sYTydUHqY2Ff"
      },
      "execution_count": null,
      "outputs": []
    },
    {
      "cell_type": "code",
      "source": [
        "# Calculate accuracy\n",
        "accuracy = accuracy_score(y_test, y_pred)\n",
        "print(f\"Accuracy: {accuracy:.2f}\")"
      ],
      "metadata": {
        "colab": {
          "base_uri": "https://localhost:8080/"
        },
        "id": "7bfk0g5pY5Rh",
        "outputId": "4ebf0db7-5e8e-4477-de64-8cb335faa720"
      },
      "execution_count": null,
      "outputs": [
        {
          "output_type": "stream",
          "name": "stdout",
          "text": [
            "Accuracy: 1.00\n"
          ]
        }
      ]
    },
    {
      "cell_type": "markdown",
      "source": [
        "CONCLUSION:\n",
        "\n",
        "▶MY MODEL AS APPROACH '1.00'ACCURACY,WHICH IS LIES BETWEEN IN THE RANGE OF '0 to 1'\n",
        "\n",
        "▶HENCE,IT IS SHOWS THAT RANDOM_FOREST DECISION MODEL SUCCESSFULLY IMPLEMENT\n",
        "  "
      ],
      "metadata": {
        "id": "41UnIvHPH6MC"
      }
    }
  ]
}